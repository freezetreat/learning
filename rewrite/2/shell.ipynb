{
 "cells": [
  {
   "cell_type": "code",
   "execution_count": 1,
   "metadata": {},
   "outputs": [
    {
     "name": "stderr",
     "output_type": "stream",
     "text": [
      "2023-08-12 17:57:47,060 - Training at epoch=0. Training loss=0.3456. Validation loss=0.0938\n",
      "2023-08-12 17:57:47,126 - Training at epoch=10. Training loss=0.0223. Validation loss=0.0258\n",
      "2023-08-12 17:57:47,191 - Training at epoch=20. Training loss=0.0110. Validation loss=0.0135\n",
      "2023-08-12 17:57:47,257 - Training at epoch=30. Training loss=0.0083. Validation loss=0.0104\n",
      "2023-08-12 17:57:47,321 - Training at epoch=40. Training loss=0.0076. Validation loss=0.0096\n",
      "2023-08-12 17:57:47,386 - Training at epoch=50. Training loss=0.0076. Validation loss=0.0092\n",
      "2023-08-12 17:57:47,451 - Training at epoch=60. Training loss=0.0074. Validation loss=0.0094\n",
      "2023-08-12 17:57:47,515 - Training at epoch=70. Training loss=0.0075. Validation loss=0.0090\n",
      "2023-08-12 17:57:47,577 - Training at epoch=80. Training loss=0.0074. Validation loss=0.0089\n",
      "2023-08-12 17:57:47,639 - Training at epoch=90. Training loss=0.0075. Validation loss=0.0094\n",
      "2023-08-12 17:57:47,701 - Training at epoch=100. Training loss=0.0074. Validation loss=0.0091\n",
      "2023-08-12 17:57:47,762 - Training at epoch=110. Training loss=0.0075. Validation loss=0.0092\n",
      "2023-08-12 17:57:47,824 - Training at epoch=120. Training loss=0.0074. Validation loss=0.0090\n",
      "2023-08-12 17:57:47,885 - Training at epoch=130. Training loss=0.0075. Validation loss=0.0090\n",
      "2023-08-12 17:57:47,948 - Training at epoch=140. Training loss=0.0075. Validation loss=0.0092\n",
      "2023-08-12 17:57:48,013 - Training at epoch=150. Training loss=0.0075. Validation loss=0.0090\n",
      "2023-08-12 17:57:48,077 - Training at epoch=160. Training loss=0.0075. Validation loss=0.0090\n",
      "2023-08-12 17:57:48,142 - Training at epoch=170. Training loss=0.0075. Validation loss=0.0091\n",
      "2023-08-12 17:57:48,207 - Training at epoch=180. Training loss=0.0075. Validation loss=0.0095\n",
      "2023-08-12 17:57:48,272 - Training at epoch=190. Training loss=0.0076. Validation loss=0.0093\n"
     ]
    }
   ],
   "source": [
    "%run 2.py"
   ]
  },
  {
   "cell_type": "code",
   "execution_count": 3,
   "metadata": {},
   "outputs": [
    {
     "data": {
      "text/plain": [
       "Sequential(\n",
       "  (0): Linear(in_features=1, out_features=1, bias=True)\n",
       ")"
      ]
     },
     "execution_count": 3,
     "metadata": {},
     "output_type": "execute_result"
    }
   ],
   "source": [
    "model"
   ]
  },
  {
   "cell_type": "code",
   "execution_count": 10,
   "metadata": {},
   "outputs": [
    {
     "data": {
      "text/plain": [
       "[Parameter containing:\n",
       " tensor([[1.9438]], device='cuda:0', requires_grad=True),\n",
       " Parameter containing:\n",
       " tensor([1.0287], device='cuda:0', requires_grad=True)]"
      ]
     },
     "execution_count": 10,
     "metadata": {},
     "output_type": "execute_result"
    }
   ],
   "source": [
    "model.parameters().data"
   ]
  },
  {
   "cell_type": "code",
   "execution_count": null,
   "metadata": {},
   "outputs": [],
   "source": []
  }
 ],
 "metadata": {
  "kernelspec": {
   "display_name": "myenv",
   "language": "python",
   "name": "python3"
  },
  "language_info": {
   "codemirror_mode": {
    "name": "ipython",
    "version": 3
   },
   "file_extension": ".py",
   "mimetype": "text/x-python",
   "name": "python",
   "nbconvert_exporter": "python",
   "pygments_lexer": "ipython3",
   "version": "3.11.4"
  },
  "orig_nbformat": 4
 },
 "nbformat": 4,
 "nbformat_minor": 2
}
