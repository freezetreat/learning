{
 "cells": [
  {
   "cell_type": "code",
   "execution_count": 1,
   "metadata": {},
   "outputs": [],
   "source": [
    "import numpy as np\n",
    "\n",
    "import torch\n",
    "import torch.optim as optim\n",
    "import torch.nn as nn\n",
    "import torch.nn.functional as F\n",
    "\n",
    "from torch.utils.data import DataLoader, Dataset, random_split, TensorDataset\n",
    "from torch.nn.utils import rnn as rnn_utils\n",
    "\n",
    "#from data_generation.square_sequences import generate_sequences\n",
    "from stepbystep.v4 import StepByStep\n"
   ]
  },
  {
   "cell_type": "code",
   "execution_count": 2,
   "metadata": {},
   "outputs": [],
   "source": [
    "import numpy as np\n",
    "\n",
    "def generate_sequences(n=128, variable_len=False, seed=13):\n",
    "    basic_corners = np.array([[-1, -1], [-1, 1], [1, 1], [1, -1]])\n",
    "    np.random.seed(seed)\n",
    "    bases = np.random.randint(4, size=n)\n",
    "    if variable_len:\n",
    "        lengths = np.random.randint(3, size=n) + 2\n",
    "    else:\n",
    "        lengths = [4] * n\n",
    "    directions = np.random.randint(2, size=n)\n",
    "    points = [basic_corners[[(b + i) % 4 for i in range(4)]][slice(None, None, d*2-1)][:l] + np.random.randn(l, 2) * 0.1 for b, d, l in zip(bases, directions, lengths)]\n",
    "    return points, directions"
   ]
  },
  {
   "cell_type": "code",
   "execution_count": 3,
   "metadata": {},
   "outputs": [],
   "source": [
    "points, directions = generate_sequences(n =128, seed=13)"
   ]
  },
  {
   "cell_type": "code",
   "execution_count": 4,
   "metadata": {},
   "outputs": [],
   "source": [
    "hidden_state = torch.zeros(2)"
   ]
  },
  {
   "cell_type": "code",
   "execution_count": 5,
   "metadata": {},
   "outputs": [
    {
     "data": {
      "text/plain": [
       "OrderedDict([('weight_ih',\n",
       "              tensor([[ 0.6627, -0.4245],\n",
       "                      [ 0.5373,  0.2294]])),\n",
       "             ('weight_hh',\n",
       "              tensor([[-0.4015, -0.5385],\n",
       "                      [-0.1956, -0.6835]])),\n",
       "             ('bias_ih', tensor([0.4954, 0.6533])),\n",
       "             ('bias_hh', tensor([-0.3565, -0.2904]))])"
      ]
     },
     "execution_count": 5,
     "metadata": {},
     "output_type": "execute_result"
    }
   ],
   "source": [
    "n_features = 2\n",
    "hidden_dim = 2 \n",
    "\n",
    "torch.manual_seed(19)\n",
    "rnn_cell = nn.RNNCell(input_size=n_features, hidden_size=hidden_dim)\n",
    "rnn_state = rnn_cell.state_dict()\n",
    "rnn_state"
   ]
  },
  {
   "cell_type": "code",
   "execution_count": 6,
   "metadata": {},
   "outputs": [],
   "source": [
    "linear_input = nn.Linear(n_features, hidden_dim)\n",
    "linear_hidden = nn.Linear(hidden_dim, hidden_dim)\n",
    "\n",
    "with torch.no_grad():\n",
    "    linear_input.weight = nn.Parameter(rnn_state['weight_ih'])\n",
    "    linear_input.bias = nn.Parameter(rnn_state['bias_ih'])\n",
    "    linear_hidden.weight = nn.Parameter(rnn_state['weight_hh'])\n",
    "    linear_hidden.bias = nn.Parameter(rnn_state['bias_hh'])\n",
    "    "
   ]
  },
  {
   "cell_type": "code",
   "execution_count": 7,
   "metadata": {},
   "outputs": [],
   "source": [
    "inital_hidden = torch.zeros(1, hidden_dim)"
   ]
  },
  {
   "cell_type": "code",
   "execution_count": 8,
   "metadata": {},
   "outputs": [
    {
     "data": {
      "text/plain": [
       "tensor([[-0.3565, -0.2904]], grad_fn=<AddmmBackward0>)"
      ]
     },
     "execution_count": 8,
     "metadata": {},
     "output_type": "execute_result"
    }
   ],
   "source": [
    "th = linear_hidden(inital_hidden)\n",
    "th"
   ]
  },
  {
   "cell_type": "code",
   "execution_count": 9,
   "metadata": {},
   "outputs": [
    {
     "data": {
      "text/plain": [
       "tensor([[ 1.0349,  0.9661],\n",
       "        [ 0.8055, -0.9169],\n",
       "        [-0.8251, -0.9499],\n",
       "        [-0.8670,  0.9342]])"
      ]
     },
     "execution_count": 9,
     "metadata": {},
     "output_type": "execute_result"
    }
   ],
   "source": [
    "X = torch.as_tensor(points[0]).float()\n",
    "X"
   ]
  },
  {
   "cell_type": "code",
   "execution_count": 10,
   "metadata": {},
   "outputs": [
    {
     "name": "stdout",
     "output_type": "stream",
     "text": [
      "tensor([[1.0349, 0.9661]])\n"
     ]
    },
    {
     "data": {
      "text/plain": [
       "tensor([[0.7712, 1.4310]], grad_fn=<AddmmBackward0>)"
      ]
     },
     "execution_count": 10,
     "metadata": {},
     "output_type": "execute_result"
    }
   ],
   "source": [
    "print(X[0:1])\n",
    "tx = linear_input(X[0:1])\n",
    "tx\n"
   ]
  },
  {
   "cell_type": "code",
   "execution_count": 11,
   "metadata": {},
   "outputs": [
    {
     "data": {
      "text/plain": [
       "tensor([[0.4146, 1.1405]], grad_fn=<AddBackward0>)"
      ]
     },
     "execution_count": 11,
     "metadata": {},
     "output_type": "execute_result"
    }
   ],
   "source": [
    "adding = th + tx\n",
    "adding"
   ]
  },
  {
   "cell_type": "code",
   "execution_count": 12,
   "metadata": {},
   "outputs": [
    {
     "data": {
      "text/plain": [
       "tensor([[0.3924, 0.8146]], grad_fn=<TanhBackward0>)"
      ]
     },
     "execution_count": 12,
     "metadata": {},
     "output_type": "execute_result"
    }
   ],
   "source": [
    "torch.tanh(adding)"
   ]
  },
  {
   "cell_type": "code",
   "execution_count": 13,
   "metadata": {},
   "outputs": [
    {
     "data": {
      "text/plain": [
       "tensor([[0.3924, 0.8146]], grad_fn=<TanhBackward0>)"
      ]
     },
     "execution_count": 13,
     "metadata": {},
     "output_type": "execute_result"
    }
   ],
   "source": [
    "rnn_cell(X[0:1])"
   ]
  },
  {
   "cell_type": "code",
   "execution_count": 14,
   "metadata": {},
   "outputs": [
    {
     "name": "stdout",
     "output_type": "stream",
     "text": [
      "tensor([[0.3924, 0.8146]], grad_fn=<TanhBackward0>)\n",
      "tensor([[ 0.4347, -0.0481]], grad_fn=<TanhBackward0>)\n",
      "tensor([[-0.1521, -0.3367]], grad_fn=<TanhBackward0>)\n",
      "tensor([[-0.5297,  0.3551]], grad_fn=<TanhBackward0>)\n"
     ]
    }
   ],
   "source": [
    "hidden = torch.zeros(1, hidden_dim)\n",
    "for i in range(X.shape[0]):\n",
    "    out = rnn_cell(X[i:i+1], hidden)\n",
    "    print(out)\n",
    "    hidden = out"
   ]
  },
  {
   "cell_type": "code",
   "execution_count": 15,
   "metadata": {},
   "outputs": [
    {
     "data": {
      "text/plain": [
       "tensor([[ 1.0349,  0.9661],\n",
       "        [ 0.8055, -0.9169],\n",
       "        [-0.8251, -0.9499],\n",
       "        [-0.8670,  0.9342]])"
      ]
     },
     "execution_count": 15,
     "metadata": {},
     "output_type": "execute_result"
    }
   ],
   "source": [
    "X"
   ]
  },
  {
   "cell_type": "code",
   "execution_count": 16,
   "metadata": {},
   "outputs": [
    {
     "data": {
      "text/plain": [
       "OrderedDict([('weight_ih_l0',\n",
       "              tensor([[ 0.6627, -0.4245],\n",
       "                      [ 0.5373,  0.2294]])),\n",
       "             ('weight_hh_l0',\n",
       "              tensor([[-0.4015, -0.5385],\n",
       "                      [-0.1956, -0.6835]])),\n",
       "             ('bias_ih_l0', tensor([0.4954, 0.6533])),\n",
       "             ('bias_hh_l0', tensor([-0.3565, -0.2904]))])"
      ]
     },
     "execution_count": 16,
     "metadata": {},
     "output_type": "execute_result"
    }
   ],
   "source": [
    "n_features = 2\n",
    "hidden_dim = 2 \n",
    "\n",
    "torch.manual_seed(19)\n",
    "rnn = nn.RNN(input_size=n_features, hidden_size=hidden_dim)\n",
    "rnn.state_dict()"
   ]
  },
  {
   "cell_type": "code",
   "execution_count": 17,
   "metadata": {},
   "outputs": [
    {
     "name": "stderr",
     "output_type": "stream",
     "text": [
      "/tmp/ipykernel_6714/297149374.py:1: UserWarning: Creating a tensor from a list of numpy.ndarrays is extremely slow. Please consider converting the list to a single numpy.ndarray with numpy.array() before converting to a tensor. (Triggered internally at /opt/conda/conda-bld/pytorch_1682343970094/work/torch/csrc/utils/tensor_new.cpp:245.)\n",
      "  batch = torch.as_tensor(points[:3]).float()\n"
     ]
    }
   ],
   "source": [
    "batch = torch.as_tensor(points[:3]).float()\n"
   ]
  },
  {
   "cell_type": "code",
   "execution_count": 18,
   "metadata": {},
   "outputs": [
    {
     "data": {
      "text/plain": [
       "tensor([[[ 1.0349,  0.9661],\n",
       "         [ 0.8055, -0.9169],\n",
       "         [-0.8251, -0.9499],\n",
       "         [-0.8670,  0.9342]],\n",
       "\n",
       "        [[ 1.0185, -1.0651],\n",
       "         [ 0.8879,  0.9653],\n",
       "         [-1.0911,  0.9254],\n",
       "         [-1.0771, -1.0414]],\n",
       "\n",
       "        [[-1.0292,  1.0127],\n",
       "         [-1.1247, -0.9683],\n",
       "         [ 0.8182, -0.9944],\n",
       "         [ 1.0081,  0.7680]]])"
      ]
     },
     "execution_count": 18,
     "metadata": {},
     "output_type": "execute_result"
    }
   ],
   "source": [
    "batch"
   ]
  },
  {
   "cell_type": "code",
   "execution_count": 19,
   "metadata": {},
   "outputs": [
    {
     "data": {
      "text/plain": [
       "tensor([[[ 1.0349,  0.9661],\n",
       "         [ 1.0185, -1.0651],\n",
       "         [-1.0292,  1.0127]],\n",
       "\n",
       "        [[ 0.8055, -0.9169],\n",
       "         [ 0.8879,  0.9653],\n",
       "         [-1.1247, -0.9683]],\n",
       "\n",
       "        [[-0.8251, -0.9499],\n",
       "         [-1.0911,  0.9254],\n",
       "         [ 0.8182, -0.9944]],\n",
       "\n",
       "        [[-0.8670,  0.9342],\n",
       "         [-1.0771, -1.0414],\n",
       "         [ 1.0081,  0.7680]]])"
      ]
     },
     "execution_count": 19,
     "metadata": {},
     "output_type": "execute_result"
    }
   ],
   "source": [
    "permuted_batch = batch.permute(1, 0, 2)\n",
    "permuted_batch"
   ]
  },
  {
   "cell_type": "code",
   "execution_count": 20,
   "metadata": {},
   "outputs": [
    {
     "data": {
      "text/plain": [
       "<torch._C.Generator at 0x7f54743e7570>"
      ]
     },
     "execution_count": 20,
     "metadata": {},
     "output_type": "execute_result"
    }
   ],
   "source": [
    "torch.manual_seed(19)"
   ]
  },
  {
   "cell_type": "code",
   "execution_count": 21,
   "metadata": {},
   "outputs": [
    {
     "data": {
      "text/plain": [
       "(torch.Size([4, 3, 2]), torch.Size([1, 3, 2]))"
      ]
     },
     "execution_count": 21,
     "metadata": {},
     "output_type": "execute_result"
    }
   ],
   "source": [
    "rnn= nn.RNN(input_size = n_features, hidden_size=hidden_dim)\n",
    "out, final_hidden = rnn(permuted_batch)\n",
    "out.shape, final_hidden.shape"
   ]
  },
  {
   "cell_type": "code",
   "execution_count": 22,
   "metadata": {},
   "outputs": [
    {
     "data": {
      "text/plain": [
       "tensor([[[-0.5297,  0.3551]],\n",
       "\n",
       "        [[ 0.3142, -0.1232]],\n",
       "\n",
       "        [[-0.2095,  0.4354]]], grad_fn=<PermuteBackward0>)"
      ]
     },
     "execution_count": 22,
     "metadata": {},
     "output_type": "execute_result"
    }
   ],
   "source": [
    "batch_hidden = final_hidden.permute(1, 0, 2)\n",
    "batch_hidden"
   ]
  },
  {
   "cell_type": "code",
   "execution_count": 23,
   "metadata": {},
   "outputs": [
    {
     "data": {
      "text/plain": [
       "OrderedDict([('weight_ih_l0',\n",
       "              tensor([[ 0.6627, -0.4245],\n",
       "                      [ 0.5373,  0.2294]])),\n",
       "             ('weight_hh_l0',\n",
       "              tensor([[-0.4015, -0.5385],\n",
       "                      [-0.1956, -0.6835]])),\n",
       "             ('bias_ih_l0', tensor([0.4954, 0.6533])),\n",
       "             ('bias_hh_l0', tensor([-0.3565, -0.2904])),\n",
       "             ('weight_ih_l1',\n",
       "              tensor([[-0.6701, -0.5811],\n",
       "                      [-0.0170, -0.5856]])),\n",
       "             ('weight_hh_l1',\n",
       "              tensor([[ 0.1159, -0.6978],\n",
       "                      [ 0.3241, -0.0983]])),\n",
       "             ('bias_ih_l1', tensor([-0.3163, -0.2153])),\n",
       "             ('bias_hh_l1', tensor([ 0.0722, -0.3242]))])"
      ]
     },
     "execution_count": 23,
     "metadata": {},
     "output_type": "execute_result"
    }
   ],
   "source": [
    "torch.manual_seed(19)\n",
    "rnn_stacked = nn.RNN(input_size=2, hidden_size=2, num_layers=2, batch_first=True)\n",
    "state = rnn_stacked.state_dict()\n",
    "state\n"
   ]
  },
  {
   "cell_type": "code",
   "execution_count": 24,
   "metadata": {},
   "outputs": [
    {
     "data": {
      "text/plain": [
       "{'weight_ih_l0': tensor([[-0.6701, -0.5811],\n",
       "         [-0.0170, -0.5856]]),\n",
       " 'weight_hh_l0': tensor([[ 0.1159, -0.6978],\n",
       "         [ 0.3241, -0.0983]]),\n",
       " 'bias_ih_l0': tensor([-0.3163, -0.2153]),\n",
       " 'bias_hh_l0': tensor([ 0.0722, -0.3242])}"
      ]
     },
     "execution_count": 24,
     "metadata": {},
     "output_type": "execute_result"
    }
   ],
   "source": [
    "rnn_layer0 = nn.RNN(input_size=2, hidden_size=2, batch_first=True)\n",
    "rnn_layer1 = nn.RNN(input_size=2, hidden_size=2, batch_first=True)\n",
    "\n",
    "rnn_layer0.load_state_dict(dict(list(state.items())[:4]))\n",
    "rnn_layer1.load_state_dict(dict([(k[:-1]+'0', v) for k, v in list(state.items())[4:]]))\n",
    "\n",
    "dict([(k[:-1]+'0', v) for k, v in list(state.items())[4:]])"
   ]
  },
  {
   "cell_type": "code",
   "execution_count": 25,
   "metadata": {},
   "outputs": [],
   "source": [
    "x = torch.as_tensor(points[0:1]).float()\n"
   ]
  },
  {
   "cell_type": "code",
   "execution_count": 26,
   "metadata": {},
   "outputs": [],
   "source": [
    "out0, h0 = rnn_layer0(x)"
   ]
  },
  {
   "cell_type": "code",
   "execution_count": 27,
   "metadata": {},
   "outputs": [
    {
     "name": "stdout",
     "output_type": "stream",
     "text": [
      "tensor([[[ 0.3924,  0.8146],\n",
      "         [ 0.4347, -0.0481],\n",
      "         [-0.1521, -0.3367],\n",
      "         [-0.5297,  0.3551]]], grad_fn=<TransposeBackward1>)\n",
      "tensor([[[-0.5297,  0.3551]]], grad_fn=<StackBackward0>)\n"
     ]
    }
   ],
   "source": [
    "print(out0)\n",
    "print(h0)"
   ]
  },
  {
   "cell_type": "code",
   "execution_count": 28,
   "metadata": {},
   "outputs": [],
   "source": [
    "out1, h1 = rnn_layer1(out0)"
   ]
  },
  {
   "cell_type": "code",
   "execution_count": 29,
   "metadata": {},
   "outputs": [
    {
     "data": {
      "text/plain": [
       "tensor([[[ 0.1563, -0.5152]]], grad_fn=<StackBackward0>)"
      ]
     },
     "execution_count": 29,
     "metadata": {},
     "output_type": "execute_result"
    }
   ],
   "source": [
    "h1"
   ]
  },
  {
   "cell_type": "code",
   "execution_count": null,
   "metadata": {},
   "outputs": [],
   "source": []
  }
 ],
 "metadata": {
  "kernelspec": {
   "display_name": "myenv",
   "language": "python",
   "name": "python3"
  },
  "language_info": {
   "codemirror_mode": {
    "name": "ipython",
    "version": 3
   },
   "file_extension": ".py",
   "mimetype": "text/x-python",
   "name": "python",
   "nbconvert_exporter": "python",
   "pygments_lexer": "ipython3",
   "version": "3.11.4"
  },
  "orig_nbformat": 4
 },
 "nbformat": 4,
 "nbformat_minor": 2
}
